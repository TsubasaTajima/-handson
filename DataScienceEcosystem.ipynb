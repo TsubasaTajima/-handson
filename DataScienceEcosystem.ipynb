{
 "cells": [
  {
   "cell_type": "markdown",
   "id": "c4a3b73d",
   "metadata": {},
   "source": [
    "# Data Science Tools and Ecosystem"
   ]
  },
  {
   "cell_type": "markdown",
   "id": "f5599598",
   "metadata": {},
   "source": [
    "In this notebook, Data Science Tools and Ecosystem are summarized."
   ]
  },
  {
   "cell_type": "markdown",
   "id": "5ff93cfc",
   "metadata": {},
   "source": [
    "__Objectives:__\n",
    "- List popular languages for Data Science\n",
    "- List popular libraries for Data Science\n",
    "- Show a basic arithmetic expression"
   ]
  },
  {
   "cell_type": "markdown",
   "id": "d635fa5c",
   "metadata": {},
   "source": [
    "Some of the popular languages that Data Scientists use are:\n",
    "\n",
    "1. Pyhton\n",
    "2. R\n",
    "3. SQL"
   ]
  },
  {
   "cell_type": "markdown",
   "id": "4446a8bd",
   "metadata": {},
   "source": [
    "Some of the commonly used libraries used by Data Scientists include:\n",
    " \n",
    " 1. Numpy\n",
    " 2. Pandas\n",
    " 3. Matplotlib\n",
    " 4. Scikitlearn\n",
    " 5. Tenserflow"
   ]
  },
  {
   "cell_type": "markdown",
   "id": "50e7f5fd",
   "metadata": {},
   "source": [
    "|Data Science Tools|\n",
    "|------------------|\n",
    "|Git|\n",
    "|Github|\n",
    "|Gitlab|\n"
   ]
  },
  {
   "cell_type": "markdown",
   "id": "06d21d51",
   "metadata": {},
   "source": [
    "### Below are a few examples of evaluating arithmetic expressions in Pyhton"
   ]
  },
  {
   "cell_type": "code",
   "execution_count": 10,
   "id": "f019ce66",
   "metadata": {},
   "outputs": [
    {
     "name": "stdout",
     "output_type": "stream",
     "text": [
      "(3*4)=5 = 17\n"
     ]
    }
   ],
   "source": [
    "# This is a simple arithmetic expression to  multiply then add integers\n",
    "print(\"(3*4)=5 = \" + str((3*4)+5)) "
   ]
  },
  {
   "cell_type": "code",
   "execution_count": 20,
   "id": "12c13737",
   "metadata": {},
   "outputs": [
    {
     "name": "stdout",
     "output_type": "stream",
     "text": [
      "200 minutes is equal to 3.3 hours\n"
     ]
    }
   ],
   "source": [
    "#This will convert 200 minutes to hours by dividing by 60\n",
    "print(\"200 minutes is equal to \" + str(round((200/60), 1)) + \" hours\")"
   ]
  },
  {
   "cell_type": "markdown",
   "id": "e59b54cd",
   "metadata": {},
   "source": [
    "## Author\n",
    "Tsubasa"
   ]
  },
  {
   "cell_type": "code",
   "execution_count": null,
   "id": "236651e9",
   "metadata": {},
   "outputs": [],
   "source": []
  }
 ],
 "metadata": {
  "kernelspec": {
   "display_name": "Python 3 (ipykernel)",
   "language": "python",
   "name": "python3"
  },
  "language_info": {
   "codemirror_mode": {
    "name": "ipython",
    "version": 3
   },
   "file_extension": ".py",
   "mimetype": "text/x-python",
   "name": "python",
   "nbconvert_exporter": "python",
   "pygments_lexer": "ipython3",
   "version": "3.10.9"
  }
 },
 "nbformat": 4,
 "nbformat_minor": 5
}
